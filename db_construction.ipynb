{
  "cells": [
    {
      "cell_type": "code",
      "execution_count": null,
      "metadata": {
        "id": "4w35IGGUVMTC"
      },
      "outputs": [],
      "source": [
        "import spotipy\n",
        "from spotipy.oauth2 import SpotifyClientCredentials\n",
        "import time\n",
        "import numpy as np\n",
        "import pandas as pd\n"
      ]
    },
    {
      "cell_type": "code",
      "execution_count": null,
      "metadata": {
        "id": "9BV29YabVMTL"
      },
      "outputs": [],
      "source": [
        "# First things first, we need a dataset, why not to use Spotify API to leverage my own saved tracks."
      ]
    },
    {
      "cell_type": "code",
      "execution_count": null,
      "metadata": {
        "id": "EM04berBVMTN"
      },
      "outputs": [],
      "source": [
        "import spotipy\n",
        "from spotipy.oauth2 import SpotifyOAuth\n",
        "\n",
        "client_ID='SECRET_CLIENT_ID' \n",
        "client_SECRET='SECRET_CLIENT_SECRET' # duoble security? No, just play on words. \n",
        "#So, it's basically similar to login and password\n",
        "redirect_url='http://localhost:5000/'\n",
        "scope = 'user-library-read user-top-read' #this scope gives us an access \n",
        "sp = spotipy.Spotify(auth_manager=SpotifyOAuth(client_id=client_ID,\n",
        "                                               client_secret=client_SECRET,\n",
        "                                               redirect_uri=redirect_url, scope=scope))\n",
        "#this function allows user to log in to Spotify\n",
        "top_results = sp.current_user_top_tracks(limit=50, offset=0)\n",
        "a = top_results['items']\n",
        "#making some lists and dict\n",
        "my_tracks_dict = {}\n",
        "my_tracks_dict['num'] = []\n",
        "my_tracks_dict['artists'] = []\n",
        "my_tracks_dict['name'] = []\n",
        "my_tracks_dict['album'] = []\n",
        "my_tracks_dict['genre'] = []\n",
        "my_tracks_dict['duration_ms'] = []\n",
        "my_tracks_dict['explicit'] = []\n",
        "my_tracks_dict['id'] = []\n",
        "my_tracks_dict['track_number'] = []\n",
        "my_tracks_dict['is_local'] = []\n",
        "my_tracks_dict['popularity'] = []\n",
        "my_tracks_dict['available_markets'] = []\n",
        "\n",
        "\n",
        "my_tracks_dict['acousticness'] = []\n",
        "my_tracks_dict['danceability'] = []\n",
        "my_tracks_dict['energy'] = []\n",
        "my_tracks_dict['instrumentalness'] = []\n",
        "my_tracks_dict['liveness'] = []\n",
        "my_tracks_dict['loudness'] = []\n",
        "my_tracks_dict['speechiness'] = []\n",
        "my_tracks_dict['tempo'] = []\n",
        "my_tracks_dict['valence'] = []\n",
        "\n",
        "songs = []\n",
        "number_of_tracks = 0\n",
        "i = 0\n",
        "while True:\n",
        "    results = sp.current_user_saved_tracks(limit=50, offset=i) \n",
        "    # we do have limit of tracks in one request (but let's set it to the max), and offset is our starting point.\n",
        "    if len(results['items']) != 0:\n",
        "        for idx, item in enumerate(results['items']):\n",
        "            track = item['track']\n",
        "            song = str(number_of_tracks+1) + ' ' + str(track['artists'][0]['name']) + \" – \" + str(track['name']) + ' ' + str(track['id'])\n",
        "            songs.append(song)\n",
        "            \n",
        "            my_tracks_dict['num'].append(number_of_tracks+1)\n",
        "            my_tracks_dict['artists'].append(track['artists'][0]['name'])\n",
        "            my_tracks_dict['name'].append(track['name'])\n",
        "            my_tracks_dict['album'].append(track['album']['name'])\n",
        "            \n",
        "            artist = sp.artist(track[\"artists\"][0][\"external_urls\"][\"spotify\"])\n",
        "            if len(artist[\"genres\"]) == 0:\n",
        "                my_tracks_dict['genre'].append('pop')\n",
        "            else:\n",
        "                my_tracks_dict['genre'].append(artist[\"genres\"][0])\n",
        "            \n",
        "            my_tracks_dict['duration_ms'].append(track['duration_ms'])\n",
        "            my_tracks_dict['explicit'].append(track['explicit'])\n",
        "            my_tracks_dict['id'].append(track['id'])\n",
        "            my_tracks_dict['track_number'].append(track['track_number'])\n",
        "            my_tracks_dict['is_local'].append(track['is_local'])\n",
        "            my_tracks_dict['popularity'].append(track['popularity'])\n",
        "            my_tracks_dict['available_markets'].append(len(track['available_markets']))\n",
        "            \n",
        "            features = sp.audio_features(track['id'])\n",
        "            \n",
        "            my_tracks_dict['acousticness'].append(features[0]['acousticness'])\n",
        "            my_tracks_dict['danceability'].append(features[0]['danceability'])\n",
        "            my_tracks_dict['energy'].append(features[0]['energy'])\n",
        "            my_tracks_dict['instrumentalness'].append(features[0]['instrumentalness'])\n",
        "            my_tracks_dict['liveness'].append(features[0]['liveness'])\n",
        "            my_tracks_dict['loudness'].append(features[0]['loudness'])\n",
        "            my_tracks_dict['speechiness'].append(features[0]['speechiness'])\n",
        "            my_tracks_dict['tempo'].append(features[0]['tempo'])\n",
        "            my_tracks_dict['valence'].append(features[0]['valence'])\n",
        "            \n",
        "            number_of_tracks += 1\n",
        "            \n",
        "        i+=50\n",
        "    else:\n",
        "        break\n",
        "\n",
        "mytrdb = pd.DataFrame(my_tracks_dict)\n",
        "#mytrdb\n",
        "\n",
        "\n",
        "\n"
      ]
    },
    {
      "cell_type": "code",
      "execution_count": null,
      "metadata": {
        "id": "3dL5V0ZsVMTS"
      },
      "outputs": [],
      "source": [
        "mytrdb.to_csv('my_songs_db.csv')\n",
        "df = pd.read_csv('my_songs_db.csv')\n",
        "\n"
      ]
    },
    {
      "cell_type": "code",
      "execution_count": null,
      "metadata": {
        "id": "zJIEjLCLVMTT"
      },
      "outputs": [],
      "source": [
        "df = pd.read_csv('my_songs_db.csv') #And here we are, with a complited dataset."
      ]
    },
    {
      "cell_type": "code",
      "execution_count": null,
      "metadata": {
        "id": "bC_tpSdGVMTU",
        "outputId": "63fb6c7a-d5f8-47bf-b6e2-ef619ee67bdb"
      },
      "outputs": [
        {
          "name": "stdout",
          "output_type": "stream",
          "text": [
            "211497.08567096284 201573.0 72224.33643638593\n"
          ]
        }
      ],
      "source": [
        "#Here is examples of descriptive statistics of the dataset: mean, median, standard deviation for fields of\n",
        "#       duration of the track, popularity Spotify coefficient and numbers of available markets:\n",
        "\n",
        "duration_ms_mean = (df.duration_ms).mean()\n",
        "duration_ms_median = (df.duration_ms).median() \n",
        "duration_ms_standard_deviation = pd.DataFrame.std((df.duration_ms))\n",
        "print(duration_ms_mean, duration_ms_median, duration_ms_standard_deviation)"
      ]
    },
    {
      "cell_type": "code",
      "execution_count": null,
      "metadata": {
        "id": "tHUKZ1ShVMTV",
        "outputId": "d038e514-2da6-45db-a25d-6c47884808bb"
      },
      "outputs": [
        {
          "name": "stdout",
          "output_type": "stream",
          "text": [
            "44.329795299469296 47.0 23.074622283125237\n"
          ]
        }
      ],
      "source": [
        "popularity_mean = (df.popularity).mean()\n",
        "popularity_median = (df.popularity).median() \n",
        "popularity_standard_deviation = pd.DataFrame.std((df.popularity))\n",
        "\n",
        "print(popularity_mean, popularity_median, popularity_standard_deviation)\n"
      ]
    },
    {
      "cell_type": "code",
      "execution_count": null,
      "metadata": {
        "id": "K8D8_TXLVMTW",
        "outputId": "f989e1bb-8bcb-4f94-ce09-2c8c1963b9fd"
      },
      "outputs": [
        {
          "name": "stdout",
          "output_type": "stream",
          "text": [
            "148.64139499620924 184.0 68.88950808800924\n"
          ]
        }
      ],
      "source": [
        "available_markets_mean = (df.available_markets).mean()\n",
        "available_markets_median = (df.available_markets).median() \n",
        "available_markets_standard_deviation = pd.DataFrame.std((df.available_markets))\n",
        "\n",
        "print(available_markets_mean, available_markets_median, available_markets_standard_deviation)"
      ]
    },
    {
      "cell_type": "code",
      "execution_count": null,
      "metadata": {
        "id": "ooz-1LV5VMTX"
      },
      "outputs": [],
      "source": [
        "# let us make some graphs\n",
        "# the first one on http://127.0.0.1:8000/tops is about top 20 artists\n",
        "\n",
        "import plotly.graph_objects as go\n",
        "import pandas as pd\n",
        "\n",
        "top20_artists = list(df.artists.value_counts()[:20].index)\n",
        "top20_artists_scores = list(df.artists.value_counts()[:20])\n",
        "print(top20_artists_scores \n",
        "import plotly.express as px\n",
        "\n",
        "fig = px.scatter(df, x=top20_artists, y=top20_artists_scores)\n",
        "fig.show()\n",
        "#fig.write_html('Top20_artists.html')\n"
      ]
    },
    {
      "cell_type": "code",
      "execution_count": null,
      "metadata": {
        "id": "LiNhLkCuVMTY"
      },
      "outputs": [],
      "source": [
        "# the second one about top 20 genres\n",
        "\n",
        "top20_genres = list(df.genre.value_counts()[:20].index)\n",
        "top20_genres_scores = list(df.genre.value_counts()[:20])\n",
        "\n",
        "\n",
        "#labels_art_pop = art_pop_artists\n",
        "#values_art_pop = art_pop_songs\n",
        "\n",
        "fig = go.Figure(data=[go.Pie(labels=top20_genres, values=top20_genres_scores)])\n",
        "fig.show()"
      ]
    },
    {
      "cell_type": "code",
      "execution_count": null,
      "metadata": {
        "id": "ZDypPspaVMTZ"
      },
      "outputs": [],
      "source": [
        "# and the last one is about concentration of Explicit content"
      ]
    },
    {
      "cell_type": "code",
      "execution_count": null,
      "metadata": {
        "id": "6-0gZt3SVMTZ"
      },
      "outputs": [],
      "source": [
        "import plotly.express as px\n",
        "\n",
        "fig = px.histogram(df, x=\"explicit\")\n",
        "fig.show()"
      ]
    },
    {
      "cell_type": "code",
      "execution_count": null,
      "metadata": {
        "id": "kzfS-YePVMTa"
      },
      "outputs": [],
      "source": [
        "artpop = df[df.genre == 'k-pop']\n",
        "#art_pop_artists = artpop.artists.value_counts().insex()\n",
        "art_pop_artists = list(artpop.artists.value_counts().index)\n",
        "art_pop_songs = list(df.artists.value_counts())\n",
        "\n",
        "labels_art_pop = art_pop_artists\n",
        "values_art_pop = art_pop_songs\n",
        "\n",
        "fig = go.Figure(data=[go.Pie(labels=labels_art_pop, values=values_art_pop)])\n",
        "fig.show()"
      ]
    }
  ],
  "metadata": {
    "kernelspec": {
      "display_name": "Python 3",
      "language": "python",
      "name": "python3"
    },
    "language_info": {
      "codemirror_mode": {
        "name": "ipython",
        "version": 3
      },
      "file_extension": ".py",
      "mimetype": "text/x-python",
      "name": "python",
      "nbconvert_exporter": "python",
      "pygments_lexer": "ipython3",
      "version": "3.7.6"
    },
    "colab": {
      "name": "ArtemIlinDBSA211-1project (1).ipynb",
      "provenance": []
    }
  },
  "nbformat": 4,
  "nbformat_minor": 0
}